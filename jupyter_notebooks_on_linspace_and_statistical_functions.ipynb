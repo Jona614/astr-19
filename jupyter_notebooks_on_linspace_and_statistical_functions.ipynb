{
 "cells": [
  {
   "cell_type": "code",
   "execution_count": 4,
   "metadata": {},
   "outputs": [],
   "source": [
    "import numpy as np"
   ]
  },
  {
   "cell_type": "markdown",
   "metadata": {},
   "source": [
    "# Accepts an array of numbers as an argument and returns the resulting value of sin(input)"
   ]
  },
  {
   "cell_type": "code",
   "execution_count": 5,
   "metadata": {},
   "outputs": [],
   "source": [
    "def sine(value):\n",
    "    return np.sin(value)"
   ]
  },
  {
   "cell_type": "markdown",
   "metadata": {},
   "source": [
    "# Accepts an array of arguments as an argument and returns the resulting value of cos(input)"
   ]
  },
  {
   "cell_type": "code",
   "execution_count": 6,
   "metadata": {},
   "outputs": [],
   "source": [
    "def cosine(value):\n",
    "    return np.cos(value)"
   ]
  },
  {
   "cell_type": "markdown",
   "metadata": {},
   "source": [
    "# Returns a tuple that consists of three separate arrays: First array consists of 1000 evenly-spaced elements within the range between the 'start' and 'end' arguments, which are numbers; Second array has the same dimensions as the first array, but its values are the outputs of sin(x_element); Third array is similar to the second array, but its values are the outputs of cos(x_element)"
   ]
  },
  {
   "cell_type": "code",
   "execution_count": 9,
   "metadata": {},
   "outputs": [],
   "source": [
    "def tables(start, end):\n",
    "    # Create an array that consists of 1000 evenly-spaced elements within the range between 'start' and 'end'\n",
    "    x = np.linspace(start, end, 1000)\n",
    "    # Change the shape of the array to having 1000 rows, and 1 column\n",
    "    x_table = x.reshape(1000, 1)\n",
    "    # Create different arrays that have the same dimensions as the x array;\n",
    "    # the values in this array are sin(x_value) and cos(x-value) respectively\n",
    "    sine_table = sine(x)\n",
    "    cosine_table = cosine(x)\n",
    "    # Return the x and sine arrays as a tuple\n",
    "    return x_table, sine_table, cosine_table"
   ]
  },
  {
   "cell_type": "markdown",
   "metadata": {},
   "source": [
    "# Assign the arrays into separate variables and print the first ten values from each"
   ]
  },
  {
   "cell_type": "code",
   "execution_count": 14,
   "metadata": {},
   "outputs": [
    {
     "name": "stdout",
     "output_type": "stream",
     "text": [
      "x: 0.0, sin(x): 0.0, cos(x): 1.0\n",
      "x: 0.00628947, sin(x): 0.00628943, cos(x): 0.99998022\n",
      "x: 0.01257895, sin(x): 0.01257862, cos(x): 0.99992089\n",
      "x: 0.01886842, sin(x): 0.0188673, cos(x): 0.999822\n",
      "x: 0.0251579, sin(x): 0.02515525, cos(x): 0.99968356\n",
      "x: 0.03144737, sin(x): 0.03144219, cos(x): 0.99950557\n",
      "x: 0.03773685, sin(x): 0.03772789, cos(x): 0.99928805\n",
      "x: 0.04402632, sin(x): 0.0440121, cos(x): 0.999031\n",
      "x: 0.0503158, sin(x): 0.05029457, cos(x): 0.99873443\n",
      "x: 0.05660527, sin(x): 0.05657505, cos(x): 0.99839835\n"
     ]
    },
    {
     "name": "stderr",
     "output_type": "stream",
     "text": [
      "C:\\Users\\chung\\AppData\\Local\\Temp\\ipykernel_25568\\748828043.py:5: DeprecationWarning: Conversion of an array with ndim > 0 to a scalar is deprecated, and will error in future. Ensure you extract a single element from your array before performing this operation. (Deprecated NumPy 1.25.)\n",
      "  print(f'x: {round(float(x[i]), 8)}, sin(x): {round(float(sine[i]), 8)}, cos(x): {round(float(cosine[i]), 8)}')\n"
     ]
    }
   ],
   "source": [
    "def main():\n",
    "    # Assign the arrays into each variable respectively\n",
    "    x, sine, cosine = tables(0, 2*np.pi)\n",
    "\n",
    "    # Iterate over the first ten values from the x, sin(x), and cos(x) arrays and print them;\n",
    "    # The values will be rounded to the 8th decimal place\n",
    "    for i in range(10):\n",
    "        print(f'x: {round(float(x[i]), 8)}, sin(x): {round(float(sine[i]), 8)}, cos(x): {round(float(cosine[i]), 8)}')\n",
    "\n",
    "# Calls the main function if the program that is being runned is this exact program\n",
    "if __name__ == '__main__':\n",
    "    main()"
   ]
  }
 ],
 "metadata": {
  "kernelspec": {
   "display_name": "Python 3",
   "language": "python",
   "name": "python3"
  },
  "language_info": {
   "codemirror_mode": {
    "name": "ipython",
    "version": 3
   },
   "file_extension": ".py",
   "mimetype": "text/x-python",
   "name": "python",
   "nbconvert_exporter": "python",
   "pygments_lexer": "ipython3",
   "version": "3.9.13"
  }
 },
 "nbformat": 4,
 "nbformat_minor": 2
}
